{
 "cells": [
  {
   "cell_type": "markdown",
   "metadata": {
    "editable": true
   },
   "source": [
    "# Part I. ETL Pipeline for Pre-Processing the Files"
   ]
  },
  {
   "cell_type": "markdown",
   "metadata": {
    "editable": true
   },
   "source": [
    "#### Import Python packages "
   ]
  },
  {
   "cell_type": "code",
   "execution_count": 1,
   "metadata": {
    "editable": true
   },
   "outputs": [],
   "source": [
    "import pandas as pd\n",
    "import cassandra\n",
    "import re\n",
    "import os\n",
    "import glob\n",
    "import numpy as np\n",
    "import json\n",
    "import csv"
   ]
  },
  {
   "cell_type": "markdown",
   "metadata": {
    "editable": true
   },
   "source": [
    "#### Combine Files and Save as Single CSV"
   ]
  },
  {
   "cell_type": "code",
   "execution_count": 2,
   "metadata": {
    "editable": true
   },
   "outputs": [],
   "source": [
    "# generate list of all .csv files in event_data directory\n",
    "filepath = os.path.join(os.getcwd(),'event_data','*.csv')\n",
    "file_path_list = glob.glob(filepath)\n",
    "\n",
    "# read each csv file and combine\n",
    "columns = ['artist','firstName','gender','itemInSession','lastName','length', 'level','location','sessionId','song','userId']\n",
    "df = pd.DataFrame(columns=columns)\n",
    "for f in file_path_list:\n",
    "    df = df.append(pd.read_csv(f, usecols=columns))\n",
    "df = df.reset_index(drop=True)\n",
    "    \n",
    "# remove empty artist\n",
    "df = df[~df['artist'].isna()]\n",
    "\n",
    "# use nullable integer type \n",
    "# # pandas uses float by default so values can be NAs (but these were removed by removing empty artist)\n",
    "df[['sessionId','userId']] = df[['sessionId','userId']].astype('Int64')\n",
    "\n",
    "# save combined csv file\n",
    "df.to_csv('event_datafile_new.csv', index=False)"
   ]
  },
  {
   "cell_type": "markdown",
   "metadata": {
    "editable": true
   },
   "source": [
    "# Part II. Complete the Apache Cassandra coding portion of your project. \n",
    "\n",
    "## Now you are ready to work with the CSV file titled <font color=red>event_datafile_new.csv</font>, located within the Workspace directory.  The event_datafile_new.csv contains the following columns: \n",
    "- artist \n",
    "- firstName of user\n",
    "- gender of user\n",
    "- item number in session\n",
    "- last name of user\n",
    "- length of the song\n",
    "- level (paid or free song)\n",
    "- location of the user\n",
    "- sessionId\n",
    "- song title\n",
    "- userId\n",
    "\n",
    "The image below is a screenshot of what the denormalized data should appear like in the <font color=red>**event_datafile_new.csv**</font> after the code above is run:<br>\n",
    "\n",
    "<img src=\"images/image_event_datafile_new.jpg\">"
   ]
  },
  {
   "cell_type": "markdown",
   "metadata": {
    "editable": true
   },
   "source": [
    "## Begin writing your Apache Cassandra code in the cells below"
   ]
  },
  {
   "cell_type": "markdown",
   "metadata": {
    "editable": true
   },
   "source": [
    "#### Creating Cluster and Establish Connection"
   ]
  },
  {
   "cell_type": "code",
   "execution_count": 3,
   "metadata": {
    "editable": true
   },
   "outputs": [],
   "source": [
    "from cassandra.cluster import Cluster\n",
    "cluster = Cluster()\n",
    "session = cluster.connect()"
   ]
  },
  {
   "cell_type": "markdown",
   "metadata": {
    "editable": true
   },
   "source": [
    "#### Create and Set Keyspace"
   ]
  },
  {
   "cell_type": "code",
   "execution_count": 4,
   "metadata": {
    "editable": true
   },
   "outputs": [],
   "source": [
    "session.execute(\"\"\"\n",
    "    CREATE KEYSPACE IF NOT EXISTS songs\n",
    "    WITH REPLICATION = \n",
    "    { 'class' : 'SimpleStrategy', 'replication_factor' : 1 }\n",
    "\"\"\")\n",
    "session.set_keyspace('songs')"
   ]
  },
  {
   "cell_type": "markdown",
   "metadata": {
    "editable": true
   },
   "source": [
    "## Create Tables to Answer Specific Queries"
   ]
  },
  {
   "cell_type": "markdown",
   "metadata": {
    "editable": true
   },
   "source": [
    "Important primary key notes for table creation:\n",
    "- primary key needs to be unique otherwise records can be overwritten on insert\n",
    "- primary key is made up of a partition key and clustering columns\n",
    "\n",
    "PRIMARY KEY ((columnA, columnB), columnC, ColumnD)\n",
    "- columnA & columnB are a composite partition key that control how data is distributed, an even disritubtion is desired\n",
    "- columnC & columnD are clustering columns that control how data is sorted and can be used to make the primary key unique"
   ]
  },
  {
   "cell_type": "markdown",
   "metadata": {
    "editable": true
   },
   "source": [
    "### 1. Using sessionId and itemInSession; return the artist, song title, and song's length"
   ]
  },
  {
   "cell_type": "markdown",
   "metadata": {
    "editable": true
   },
   "source": [
    "A table named session_song is created using:\n",
    "1. sessionId as the partition key (distribution appears even)\n",
    "2. itemInSession as the clustering column (to insure primary key is unique)"
   ]
  },
  {
   "cell_type": "code",
   "execution_count": 5,
   "metadata": {
    "editable": true
   },
   "outputs": [
    {
     "name": "stdout",
     "output_type": "stream",
     "text": [
      "primary key is unique: True\n"
     ]
    },
    {
     "data": {
      "text/plain": [
       "array([[<matplotlib.axes._subplots.AxesSubplot object at 0x7f4194dd6908>]], dtype=object)"
      ]
     },
     "execution_count": 5,
     "metadata": {},
     "output_type": "execute_result"
    }
   ],
   "source": [
    "# Exploratory Data Analysis\n",
    "# # insure unique primary key\n",
    "unique = all(df.groupby(['sessionId','itemInSession']).size()==1)\n",
    "print(f'primary key is unique: {unique}')\n",
    "# # check partition key distribution\n",
    "hist = df[['sessionId']].hist(bins=30)\n",
    "hist"
   ]
  },
  {
   "cell_type": "code",
   "execution_count": 6,
   "metadata": {
    "editable": true
   },
   "outputs": [
    {
     "data": {
      "text/plain": [
       "<cassandra.cluster.ResultSet at 0x7f4194a9e9e8>"
      ]
     },
     "execution_count": 6,
     "metadata": {},
     "output_type": "execute_result"
    }
   ],
   "source": [
    "# Create Table\n",
    "query = \"\"\"\n",
    "CREATE TABLE IF NOT EXISTS session_song (\n",
    "sessionId INT,\n",
    "itemInSession INT,\n",
    "artist TEXT,\n",
    "song TEXT,\n",
    "length DOUBLE,\n",
    "PRIMARY KEY (sessionId, itemInSession)\n",
    ")\n",
    "\"\"\"\n",
    "session.execute(query)"
   ]
  },
  {
   "cell_type": "markdown",
   "metadata": {
    "editable": true
   },
   "source": [
    "Data is inserted from the dataframe that is already in memory, which contains all rows from each csv file."
   ]
  },
  {
   "cell_type": "code",
   "execution_count": 7,
   "metadata": {
    "editable": true
   },
   "outputs": [],
   "source": [
    "# Insert Data\n",
    "query = \"\"\"\n",
    "INSERT INTO session_song \n",
    "(sessionId, itemInSession, artist, song, length)\n",
    "VALUES (%s, %s, %s, %s, %s)\n",
    "\"\"\"\n",
    "for _, line in df.iterrows():\n",
    "    session.execute(query, (line.sessionId, line.itemInSession, line.artist, line.song, line.length))"
   ]
  },
  {
   "cell_type": "markdown",
   "metadata": {
    "editable": true
   },
   "source": [
    "Verify that for sessionId=338 and itemInSession=4 returns\n",
    "- artist: Faithless\n",
    "- song: Music Matters (Mark Knight Dub)\n",
    "- length: 495.3073"
   ]
  },
  {
   "cell_type": "code",
   "execution_count": 8,
   "metadata": {
    "editable": true,
    "scrolled": true
   },
   "outputs": [
    {
     "name": "stdout",
     "output_type": "stream",
     "text": [
      "artist: Faithless; song: Music Matters (Mark Knight Dub); length: 495.3073\n"
     ]
    }
   ],
   "source": [
    "# Verify Answer\n",
    "sessionId = 338\n",
    "itemInSession = 4\n",
    "query = \"\"\"\n",
    "SELECT artist, song, length \n",
    "FROM session_song\n",
    "WHERE sessionID=%s AND itemInSession=%s\n",
    "\"\"\"\n",
    "rows = session.execute(query, (sessionId, itemInSession))\n",
    "for row in rows:\n",
    "    print(f'artist: {row.artist}; song: {row.song}; length: {row.length}')"
   ]
  },
  {
   "cell_type": "markdown",
   "metadata": {
    "editable": true
   },
   "source": [
    "### 2. Using userId and sessionId return the artist, song (sorted by itemInSession), user firstName, and user lastName"
   ]
  },
  {
   "cell_type": "markdown",
   "metadata": {
    "editable": true
   },
   "source": [
    "A table named user_song is created using:\n",
    "1. userId and session Id as a composite partition key (distribution appears even)\n",
    "2. itemInSession as the only clustering column (to return queried data sorted by itemInSession)\n",
    "3. primary key combination of userId, sessionId, itemInSession is unique"
   ]
  },
  {
   "cell_type": "code",
   "execution_count": 9,
   "metadata": {
    "editable": true
   },
   "outputs": [
    {
     "name": "stdout",
     "output_type": "stream",
     "text": [
      "primary key is unique: True\n"
     ]
    },
    {
     "data": {
      "text/plain": [
       "array([[<matplotlib.axes._subplots.AxesSubplot object at 0x7f4194993278>,\n",
       "        <matplotlib.axes._subplots.AxesSubplot object at 0x7f41949df400>]], dtype=object)"
      ]
     },
     "execution_count": 9,
     "metadata": {},
     "output_type": "execute_result"
    },
    {
     "data": {
      "image/png": "[encoded data removed]",
      "text/plain": [
       "<matplotlib.figure.Figure at 0x7f4194a6ef60>"
      ]
     },
     "metadata": {
      "needs_background": "light"
     },
     "output_type": "display_data"
    }
   ],
   "source": [
    "# Exploratory Data Analysis\n",
    "# # insure unique primary key\n",
    "unique = all(df.groupby(['userId','sessionId','itemInSession']).size()==1)\n",
    "print(f'primary key is unique: {unique}')\n",
    "# # check partition key distribution\n",
    "hist = df[['userId', 'sessionId']].hist(bins=30)\n",
    "hist"
   ]
  },
  {
   "cell_type": "code",
   "execution_count": 10,
   "metadata": {
    "editable": true
   },
   "outputs": [
    {
     "data": {
      "text/plain": [
       "<cassandra.cluster.ResultSet at 0x7f419498fd30>"
      ]
     },
     "execution_count": 10,
     "metadata": {},
     "output_type": "execute_result"
    }
   ],
   "source": [
    "# Create Table\n",
    "query = \"\"\"\n",
    "CREATE TABLE IF NOT EXISTS user_song (\n",
    "userId INT,\n",
    "sessionId INT,\n",
    "itemInSession INT,\n",
    "artist TEXT,\n",
    "song TEXT,\n",
    "firstName TEXT,\n",
    "lastName TEXT,\n",
    "PRIMARY KEY ((userId, sessionId), itemInSession)\n",
    ")\n",
    "\"\"\"\n",
    "session.execute(query)"
   ]
  },
  {
   "cell_type": "code",
   "execution_count": 11,
   "metadata": {
    "editable": true
   },
   "outputs": [],
   "source": [
    "# Insert Data\n",
    "query = \"\"\"\n",
    "INSERT INTO user_song\n",
    "(userId, sessionId, itemInSession, artist, song, firstName, lastName)\n",
    "VALUES (%s, %s, %s, %s, %s, %s, %s)\n",
    "\"\"\"\n",
    "for _, line in df.iterrows():\n",
    "    session.execute(query, (line.userId, line.sessionId, line.itemInSession, line.artist, line.song, line.firstName, line.lastName))"
   ]
  },
  {
   "cell_type": "markdown",
   "metadata": {
    "editable": true
   },
   "source": [
    "Verify that for userId=10 and sessionId=182 returns 4 rows that are sorted by itemInSession\n",
    "- itemInSession: 0; artist: Down To The Bone; song: Keep On Keepin' On; firstName: Sylvie; lastName: Cruz\n",
    "- itemInSession: 1; artist: Three Drives; song: Greece 2000; firstName: Sylvie; lastName: Cruz\n",
    "- itemInSession: 2; artist: Sebastien Tellier; song: Kilometer; firstName: Sylvie; lastName: Cruz\n",
    "- itemInSession: 3; artist: Lonnie Gordon; song: Catch You Baby (Steve Pitron & Max Sanna Radio Edit); firstName: Sylvie; lastName: Cruz"
   ]
  },
  {
   "cell_type": "code",
   "execution_count": 12,
   "metadata": {
    "editable": true
   },
   "outputs": [
    {
     "ename": "InvalidRequest",
     "evalue": "Error from server: code=2200 [Invalid query] message=\"unconfigured table user_session\"",
     "output_type": "error",
     "traceback": [
      "\u001b[0;31m---------------------------------------------------------------------------\u001b[0m",
      "\u001b[0;31mInvalidRequest\u001b[0m                            Traceback (most recent call last)",
      "\u001b[0;32m<ipython-input-12-33c3b80df35a>\u001b[0m in \u001b[0;36m<module>\u001b[0;34m()\u001b[0m\n\u001b[1;32m      7\u001b[0m \u001b[0mWHERE\u001b[0m \u001b[0muserId\u001b[0m\u001b[0;34m=\u001b[0m\u001b[0;34m%\u001b[0m\u001b[0ms\u001b[0m \u001b[0mAND\u001b[0m \u001b[0msessionId\u001b[0m\u001b[0;34m=\u001b[0m\u001b[0;34m%\u001b[0m\u001b[0ms\u001b[0m\u001b[0;34m\u001b[0m\u001b[0m\n\u001b[1;32m      8\u001b[0m \"\"\"\n\u001b[0;32m----> 9\u001b[0;31m \u001b[0mrows\u001b[0m \u001b[0;34m=\u001b[0m \u001b[0msession\u001b[0m\u001b[0;34m.\u001b[0m\u001b[0mexecute\u001b[0m\u001b[0;34m(\u001b[0m\u001b[0mquery\u001b[0m\u001b[0;34m,\u001b[0m \u001b[0;34m(\u001b[0m\u001b[0muserId\u001b[0m\u001b[0;34m,\u001b[0m \u001b[0msessionId\u001b[0m\u001b[0;34m)\u001b[0m\u001b[0;34m)\u001b[0m\u001b[0;34m\u001b[0m\u001b[0m\n\u001b[0m\u001b[1;32m     10\u001b[0m \u001b[0;32mfor\u001b[0m \u001b[0mrow\u001b[0m \u001b[0;32min\u001b[0m \u001b[0mrows\u001b[0m\u001b[0;34m:\u001b[0m\u001b[0;34m\u001b[0m\u001b[0m\n\u001b[1;32m     11\u001b[0m     \u001b[0mprint\u001b[0m\u001b[0;34m(\u001b[0m\u001b[0;34mf'itemInSession: {row.iteminsession}; artist: {row.artist}; song: {row.song}; firstName: {row.firstname}; lastName: {row.lastname}'\u001b[0m\u001b[0;34m)\u001b[0m\u001b[0;34m\u001b[0m\u001b[0m\n",
      "\u001b[0;32m/opt/conda/lib/python3.6/site-packages/cassandra/cluster.cpython-36m-x86_64-linux-gnu.so\u001b[0m in \u001b[0;36mcassandra.cluster.Session.execute (cassandra/cluster.c:38536)\u001b[0;34m()\u001b[0m\n",
      "\u001b[0;32m/opt/conda/lib/python3.6/site-packages/cassandra/cluster.cpython-36m-x86_64-linux-gnu.so\u001b[0m in \u001b[0;36mcassandra.cluster.ResponseFuture.result (cassandra/cluster.c:80834)\u001b[0;34m()\u001b[0m\n",
      "\u001b[0;31mInvalidRequest\u001b[0m: Error from server: code=2200 [Invalid query] message=\"unconfigured table user_session\""
     ]
    }
   ],
   "source": [
    "# Verify Answer\n",
    "userId = 10\n",
    "sessionId = 182\n",
    "query = \"\"\"\n",
    "SELECT itemInSession, artist, song, firstName, lastName\n",
    "FROM user_session\n",
    "WHERE userId=%s AND sessionId=%s\n",
    "\"\"\"\n",
    "rows = session.execute(query, (userId, sessionId))\n",
    "for row in rows:\n",
    "    print(f'itemInSession: {row.iteminsession}; artist: {row.artist}; song: {row.song}; firstName: {row.firstname}; lastName: {row.lastname}')"
   ]
  },
  {
   "cell_type": "markdown",
   "metadata": {
    "editable": true
   },
   "source": [
    "### 3. Give me every user name (first and last) in my music app history who listened to the song 'All Hands Against His Own'"
   ]
  },
  {
   "cell_type": "markdown",
   "metadata": {
    "editable": true
   },
   "source": [
    "A table named song_history is created using:\n",
    "1. song as the partition key (in this case, distribution doesn't appear great)\n",
    "2. userId as the clustering column\n",
    "\n",
    "Note that the primary key is not unique in this case, so records will be overwritten if song and useId is the same. It is assumed this is not an issue since it still answers the question."
   ]
  },
  {
   "cell_type": "code",
   "execution_count": null,
   "metadata": {
    "editable": true
   },
   "outputs": [],
   "source": [
    "# Exploratory Data Analysis\n",
    "# # check unique primary key\n",
    "unique = all(df.groupby(['song','userId']).size()==1)\n",
    "print(f'primary key is unique: {unique}')\n",
    "# # check partition key distribution\n",
    "hist = df[['song', 'userId']].hist(bins=30)\n",
    "hist"
   ]
  },
  {
   "cell_type": "code",
   "execution_count": null,
   "metadata": {
    "editable": true
   },
   "outputs": [],
   "source": [
    "# Create Table\n",
    "query = \"\"\"\n",
    "CREATE TABLE IF NOT EXISTS song_history (\n",
    "song TEXT,\n",
    "userId INT,\n",
    "firstName TEXT,\n",
    "lastName TEXT,\n",
    "PRIMARY KEY (song, userId)\n",
    ")\n",
    "\"\"\"\n",
    "session.execute(query)"
   ]
  },
  {
   "cell_type": "code",
   "execution_count": null,
   "metadata": {
    "editable": true
   },
   "outputs": [],
   "source": [
    "# Insert Data\n",
    "query = \"\"\"\n",
    "INSERT INTO song_history \n",
    "(song, userId, firstName, lastName)\n",
    "VALUES (%s, %s, %s, %s)\n",
    "\"\"\"\n",
    "for _, line in df.iterrows():\n",
    "    session.execute(query, (line.song, line.userId, line.firstName, line.lastName))"
   ]
  },
  {
   "cell_type": "markdown",
   "metadata": {
    "editable": true
   },
   "source": [
    "Verify that for the song 'All Hands Against Hist Own' 3 users are returned. These are sorted by userId although this was not a requirement.\n",
    "- firstName: Jacqueline; lastName: Lynch\n",
    "- firstName: Tegan; lastName: Levine\n",
    "- firstName: Sara; lastName: Johnson"
   ]
  },
  {
   "cell_type": "code",
   "execution_count": null,
   "metadata": {
    "editable": true
   },
   "outputs": [],
   "source": [
    "# Verify Answer\n",
    "song = 'All Hands Against His Own'\n",
    "query = \"\"\"\n",
    "SELECT firstName, lastName\n",
    "FROM song_users\n",
    "WHERE song=%s\n",
    "\"\"\"\n",
    "rows = session.execute(query, (song,))\n",
    "for row in rows:\n",
    "    print(f'firstName: {row.firstname}; lastName: {row.lastname}')"
   ]
  },
  {
   "cell_type": "markdown",
   "metadata": {
    "editable": true
   },
   "source": [
    "### Drop the tables before closing out the sessions"
   ]
  },
  {
   "cell_type": "code",
   "execution_count": null,
   "metadata": {
    "editable": true
   },
   "outputs": [],
   "source": [
    "session.execute('DROP TABLE session_song')\n",
    "session.execute('DROP TABLE user_song')\n",
    "session.execute('DROP TABLE song_history')"
   ]
  },
  {
   "cell_type": "markdown",
   "metadata": {
    "editable": true
   },
   "source": [
    "### Close the session and cluster connection¶"
   ]
  },
  {
   "cell_type": "code",
   "execution_count": null,
   "metadata": {
    "editable": true
   },
   "outputs": [],
   "source": [
    "session.shutdown()\n",
    "cluster.shutdown()"
   ]
  },
  {
   "cell_type": "code",
   "execution_count": null,
   "metadata": {
    "editable": true
   },
   "outputs": [],
   "source": []
  }
 ],
 "metadata": {
  "kernelspec": {
   "display_name": "Python 3",
   "language": "python",
   "name": "python3"
  },
  "language_info": {
   "codemirror_mode": {
    "name": "ipython",
    "version": 3
   },
   "file_extension": ".py",
   "mimetype": "text/x-python",
   "name": "python",
   "nbconvert_exporter": "python",
   "pygments_lexer": "ipython3",
   "version": "3.6.3"
  }
 },
 "nbformat": 4,
 "nbformat_minor": 4
}
